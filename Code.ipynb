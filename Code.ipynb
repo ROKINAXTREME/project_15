{
 "cells": [
  {
   "cell_type": "markdown",
   "metadata": {},
   "source": [
    "# This is to reverse a number"
   ]
  },
  {
   "cell_type": "code",
   "execution_count": null,
   "metadata": {},
   "outputs": [],
   "source": [
    "num=int(input(\"input a number: \"))\n",
    "back=0\n",
    "i=0\n",
    "while num>0:\n",
    "    i+=1\n",
    "    mod=num%10\n",
    "    back=back*10+mod\n",
    "    num=num//10\n",
    "f='%0'+str(i)+'d'\n",
    "print(f%back)"
   ]
  },
  {
   "cell_type": "markdown",
   "metadata": {},
   "source": [
    "# armstrong number"
   ]
  },
  {
   "cell_type": "code",
   "execution_count": 3,
   "metadata": {},
   "outputs": [
    {
     "ename": "SyntaxError",
     "evalue": "invalid syntax (<ipython-input-3-aa36cabfa35d>, line 8)",
     "output_type": "error",
     "traceback": [
      "\u001b[1;36m  File \u001b[1;32m\"<ipython-input-3-aa36cabfa35d>\"\u001b[1;36m, line \u001b[1;32m8\u001b[0m\n\u001b[1;33m    print(\"So, you came to ask if \", num, \"is armstrong or not, right? Well the answer is, \"arm==a)\u001b[0m\n\u001b[1;37m                                                                                            ^\u001b[0m\n\u001b[1;31mSyntaxError\u001b[0m\u001b[1;31m:\u001b[0m invalid syntax\n"
     ]
    }
   ],
   "source": [
    "a=int(input(\"Input a number: \"))\n",
    "num=a\n",
    "arm=0\n",
    "while num>0:\n",
    "    mod=num%10\n",
    "    arm=arm+mod**3\n",
    "    num=num//10\n",
    "print(\"So, you came to ask if \", num, \"is armstrong or not, right? Well the answer is, \", arm==a)"
   ]
  },
  {
   "cell_type": "markdown",
   "metadata": {},
   "source": [
    "# generate first five armstrong numbers"
   ]
  },
  {
   "cell_type": "code",
   "execution_count": 5,
   "metadata": {},
   "outputs": [
    {
     "name": "stdout",
     "output_type": "stream",
     "text": [
      "1\n",
      "153\n",
      "370\n",
      "371\n",
      "407\n"
     ]
    }
   ],
   "source": [
    "num=0\n",
    "i=1\n",
    "while num<5:\n",
    "    a=i\n",
    "    arm=0\n",
    "    while a>0:\n",
    "        mod=a%10\n",
    "        arm+= mod**3\n",
    "        a=a//10\n",
    "    if arm==i:\n",
    "        print(i)\n",
    "        num+=1\n",
    "    i+=1"
   ]
  },
  {
   "cell_type": "code",
   "execution_count": 13,
   "metadata": {},
   "outputs": [
    {
     "name": "stdout",
     "output_type": "stream",
     "text": [
      "enter the current year 2020\n",
      "This is a leap year!\n"
     ]
    }
   ],
   "source": [
    "year=int(input(\"enter the current year \"))\n",
    "if year%4==0:\n",
    "    if year%100==0:\n",
    "        if year%400==0:\n",
    "            print(\"This is a leap year!\")#.format(year)\n",
    "        else:\n",
    "            print(\"This is not a leap year. :(  \")#.format(year)\n",
    "    else:\n",
    "        print(\"This is a leap year!\")#.format(year)\n",
    "else:\n",
    "    print(\"This is not a leap year. :(  \")"
   ]
  },
  {
   "cell_type": "markdown",
   "metadata": {},
   "source": [
    "# palindrome (string edition)"
   ]
  },
  {
   "cell_type": "code",
   "execution_count": 3,
   "metadata": {},
   "outputs": [
    {
     "name": "stdout",
     "output_type": "stream",
     "text": [
      "input a wordyayee\n"
     ]
    }
   ],
   "source": [
    "mystr=input(\"input a word\")\n",
    "mystr=mystr.casefold()#not case sensitive\n",
    "rev_str=reversed(mystr)\n",
    "if list(mystr)==list(rev_str):\n",
    "    print(\"the string is a palindrome\")\n",
    "else:\n",
    "    (\"this is not a palindrome\")"
   ]
  },
  {
   "cell_type": "markdown",
   "metadata": {},
   "source": [
    "# To find factors of a number."
   ]
  },
  {
   "cell_type": "code",
   "execution_count": 40,
   "metadata": {},
   "outputs": [
    {
     "name": "stdout",
     "output_type": "stream",
     "text": [
      "Enter a number: 66\n",
      "2  times 33  is 66\n",
      "3  times 22  is 66\n",
      "no factors\n",
      "no factors\n",
      "6  times 11  is 66\n",
      "no factors\n",
      "no factors\n",
      "no factors\n",
      "no factors\n",
      "11  times 6  is 66\n",
      "no factors\n",
      "no factors\n",
      "no factors\n",
      "no factors\n",
      "no factors\n",
      "no factors\n",
      "no factors\n",
      "no factors\n",
      "no factors\n",
      "no factors\n",
      "22  times 3  is 66\n",
      "no factors\n",
      "no factors\n",
      "no factors\n",
      "no factors\n",
      "no factors\n",
      "no factors\n",
      "no factors\n",
      "no factors\n",
      "no factors\n",
      "no factors\n",
      "33  times 2  is 66\n",
      "no factors\n",
      "no factors\n",
      "no factors\n",
      "no factors\n",
      "no factors\n",
      "no factors\n",
      "no factors\n",
      "no factors\n",
      "no factors\n",
      "no factors\n",
      "no factors\n",
      "no factors\n",
      "no factors\n",
      "no factors\n",
      "no factors\n",
      "no factors\n",
      "no factors\n",
      "no factors\n",
      "no factors\n",
      "no factors\n",
      "no factors\n",
      "no factors\n",
      "no factors\n",
      "no factors\n",
      "no factors\n",
      "no factors\n",
      "no factors\n",
      "no factors\n",
      "no factors\n",
      "no factors\n",
      "no factors\n",
      "no factors\n"
     ]
    }
   ],
   "source": [
    "num = int(input(\"Enter a number: \"))      \n",
    "for i in range(2,num):  \n",
    "    if (num % i) == 0:  \n",
    "        print(i,\" times\",num//i,\" is\",num)\n",
    "    if (num%i)!=0:\n",
    "        print(\"no factors\")"
   ]
  },
  {
   "cell_type": "code",
   "execution_count": null,
   "metadata": {},
   "outputs": [],
   "source": []
  }
 ],
 "metadata": {
  "kernelspec": {
   "display_name": "Python 3",
   "language": "python",
   "name": "python3"
  },
  "language_info": {
   "codemirror_mode": {
    "name": "ipython",
    "version": 3
   },
   "file_extension": ".py",
   "mimetype": "text/x-python",
   "name": "python",
   "nbconvert_exporter": "python",
   "pygments_lexer": "ipython3",
   "version": "3.8.3"
  }
 },
 "nbformat": 4,
 "nbformat_minor": 4
}
